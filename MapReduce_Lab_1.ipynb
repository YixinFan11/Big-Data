{
  "cells": [
    {
      "cell_type": "markdown",
      "metadata": {
        "id": "view-in-github",
        "colab_type": "text"
      },
      "source": [
        "<a href=\"https://colab.research.google.com/github/YixinFan11/Big-Data/blob/master/MapReduce_Lab_1.ipynb\" target=\"_parent\"><img src=\"https://colab.research.google.com/assets/colab-badge.svg\" alt=\"Open In Colab\"/></a>"
      ]
    },
    {
      "cell_type": "markdown",
      "id": "83d4253a",
      "metadata": {
        "deletable": false,
        "editable": false,
        "nbgrader": {
          "cell_type": "markdown",
          "checksum": "8369c6f907c65859e613c692e62e369e",
          "grade": false,
          "grade_id": "cell-ada3b9617f709a43",
          "locked": true,
          "schema_version": 3,
          "solution": false,
          "task": false
        },
        "id": "83d4253a"
      },
      "source": [
        "# MapReduce Lab\n",
        "\n",
        "## Lab assignment: Exercises with MapReduce "
      ]
    },
    {
      "cell_type": "markdown",
      "id": "9810dbbe",
      "metadata": {
        "deletable": false,
        "editable": false,
        "nbgrader": {
          "cell_type": "markdown",
          "checksum": "3510b78bc8f65879ebcb3e4e6b1fbac2",
          "grade": false,
          "grade_id": "cell-443023c57689717b",
          "locked": true,
          "schema_version": 3,
          "solution": false,
          "task": false
        },
        "id": "9810dbbe"
      },
      "source": [
        "This first lab is all about the MapReduce paradigm. You have four different exercises that you have to resolve using MapReduce at a conceptual level. In particular, you are asked to define how the `map` and `reduce` functions should be implemented to parallelise the different tasks. You need to fill in the markdown boxes that say ''YOUR ANSWER HERE'' below to produce the expected output. For each exercise, you have to include a **brief explanation** and a **drawing** of your MapReduce solution. \n",
        "\n",
        "For the drawings, you should use a similar style to what we did in the lecture for the Word Count example:\n",
        "\n",
        "![](img/wordcount.jpg \"\")\n",
        "\n",
        "You can just draw the figures by hand and take a picture with your phone. You can include a picture in the markdown (it needs to be a Text cell!) using `![](name.jpg)`.\n",
        "\n",
        "It is important that you describe well how the `map` and `reduce` functions will work. For the Word Count example, (1) the `map` sends out every word as the output key, and gives a '1' to the output value to count that word; (2) the `reduce` simply reduces the list of 1s by adding up their elements: `lambda x, y: x+y`, with the reduction processing happening in pairs of two elements."
      ]
    },
    {
      "cell_type": "markdown",
      "id": "d515e350",
      "metadata": {
        "deletable": false,
        "editable": false,
        "nbgrader": {
          "cell_type": "markdown",
          "checksum": "c63c65f82f79e6ada485e3db5a8bc2dd",
          "grade": false,
          "grade_id": "cell-011851b0bbb39960",
          "locked": true,
          "schema_version": 3,
          "solution": false,
          "task": false
        },
        "id": "d515e350"
      },
      "source": [
        "## Submission and marking criteria\n",
        "\n",
        "You should complete this notebook and add your solutions to it. When you are done, create a single .zip file, called `ex01.zip` that contains your completed notebook (ex01.ipynb) and all the images to your solutions. \n",
        "\n",
        "Important notes:\n",
        "- The **group leader** must submit the `ex01.zip` file on Moodle.\n",
        "- **Each member of the group** must complete the peer review survey and their contribution statement using this [link](https://forms.office.com/Pages/ResponsePage.aspx?id=7qe9Z4D970GskTWEGCkKHjZupmfSK6JKqlvGZrucaoBUMjcxV1BYVk83U0hKNUtITlkzRTY0MkhHMCQlQCN0PWcu). **You can only submit this survey ONCE**.\n",
        "- This lab is marked out of 100 marks, and each exercise is worth 25 marks.\n",
        "- The marking will be focused on:\n",
        "    - Clarity of the diagrams and explanations; they should follow the same style used in the lectures. \n",
        "    - The explanations demonstrate that you understand well the concept of MapReduce.\n",
        "    - Efficiency of the solution.\n",
        "- **Submission deadline: 18th February 2022 at 3pm**"
      ]
    },
    {
      "cell_type": "markdown",
      "id": "5d32bda8",
      "metadata": {
        "deletable": false,
        "editable": false,
        "nbgrader": {
          "cell_type": "markdown",
          "checksum": "961fb35830b4b36d2df65478cd9611fd",
          "grade": false,
          "grade_id": "cell-df369032c448a450",
          "locked": true,
          "schema_version": 3,
          "solution": false,
          "task": false
        },
        "id": "5d32bda8"
      },
      "source": [
        "## Exercise 1. Provide a histogram of word repetitions\n",
        "\n",
        "You are asked to design the map and reduce functions to provide a histogram of word repetitions in one or multiple text documents. That is, the number of words that are repeated once, the number of words that are repeated twice, the number of words that are repeated three times, etc.\n",
        "\n",
        "**Input**: A document or multiple documents, containing plain text. You can assume that each line (or document) is given a random ID that will be used as input key for the map phase, and the input values are the lines of text or entire documents. So the input may look like this:\n",
        "\n",
        "    (1, Welcome to the World)\n",
        "    (2, of Big Big Data)\n",
        "    (3, Welcome World Bye)\n",
        "\n",
        "**Output**: Your output should say how many words repeat 1, 2, etc. times, where the number of times is given as output key, and the total number of words repetitions as the value (i.e. `(number of repetitions, number of words)`). Thus, for the above input, the output should be as follows:\n",
        "\n",
        "    (1 time - 5 words)\n",
        "    (2 times - 3 words)\n",
        "\n",
        "**Hint**: You can concatenate as many MapReduce processes as you like, so for example you could first apply the solution for the Word Count and take that as input for the a second stage.\n",
        "\n",
        "                                                                                                       [25 marks]"
      ]
    },
    {
      "cell_type": "markdown",
      "id": "ee1d2e22",
      "metadata": {
        "deletable": false,
        "editable": false,
        "nbgrader": {
          "cell_type": "markdown",
          "checksum": "2a63f61efbafd4aef3801fc963bd37f3",
          "grade": false,
          "grade_id": "cell-0c96b3a28f398c20",
          "locked": true,
          "schema_version": 3,
          "solution": false,
          "task": false
        },
        "id": "ee1d2e22"
      },
      "source": [
        "![](img/ex01.jpg \"\")"
      ]
    },
    {
      "cell_type": "markdown",
      "id": "b37b7d85",
      "metadata": {
        "deletable": false,
        "nbgrader": {
          "cell_type": "markdown",
          "checksum": "c6bbe660a972f08f9b15caf2ece8c9ae",
          "grade": true,
          "grade_id": "cell-167c807576116dad",
          "locked": false,
          "points": 0,
          "schema_version": 3,
          "solution": true,
          "task": false
        },
        "id": "b37b7d85"
      },
      "source": [
        "ANSWER:"
      ]
    },
    {
      "cell_type": "code",
      "source": [
        "text1=[(1, \"Welcome to the World\"),(2, \"of Big Big Data\"),(3, \"Welcome World Bye\")]"
      ],
      "metadata": {
        "id": "M5JVESxl3maX"
      },
      "id": "M5JVESxl3maX",
      "execution_count": 1,
      "outputs": []
    },
    {
      "cell_type": "code",
      "source": [
        "def word_count(text):\n",
        "  dic={}\n",
        "  for s in text:\n",
        "    for word in s[1].split(\" \"):\n",
        "      if word not in dic.keys():\n",
        "        dic[word]=1\n",
        "      else:\n",
        "        dic[word]+=1\n",
        "  return dic\n"
      ],
      "metadata": {
        "id": "Av8XzBX73TSy"
      },
      "id": "Av8XzBX73TSy",
      "execution_count": 2,
      "outputs": []
    },
    {
      "cell_type": "code",
      "source": [
        "dict1=word_count(text1)\n",
        "dict1"
      ],
      "metadata": {
        "colab": {
          "base_uri": "https://localhost:8080/"
        },
        "id": "3DbmlgTw_cWg",
        "outputId": "90c78dc4-e9cf-4d42-b70d-a4d39bdf51ee"
      },
      "id": "3DbmlgTw_cWg",
      "execution_count": 3,
      "outputs": [
        {
          "output_type": "execute_result",
          "data": {
            "text/plain": [
              "{'Big': 2,\n",
              " 'Bye': 1,\n",
              " 'Data': 1,\n",
              " 'Welcome': 2,\n",
              " 'World': 2,\n",
              " 'of': 1,\n",
              " 'the': 1,\n",
              " 'to': 1}"
            ]
          },
          "metadata": {},
          "execution_count": 3
        }
      ]
    },
    {
      "cell_type": "code",
      "source": [
        "def occurence(dic):\n",
        "  lst=[]\n",
        "  for i in dic.values():\n",
        "    if i not in lst:\n",
        "      lst.append(i)\n",
        "      s1=sum(value==i for value in dict1.values())\n",
        "      print(i,\"times-\",s1,\"words\")\n",
        "  "
      ],
      "metadata": {
        "id": "QSfffyT7Fa5D"
      },
      "id": "QSfffyT7Fa5D",
      "execution_count": 4,
      "outputs": []
    },
    {
      "cell_type": "code",
      "source": [
        "occurence(dict1)"
      ],
      "metadata": {
        "colab": {
          "base_uri": "https://localhost:8080/"
        },
        "id": "1zSWeAmQO8db",
        "outputId": "7a40f154-b842-4301-a090-35dec05e729e"
      },
      "id": "1zSWeAmQO8db",
      "execution_count": 5,
      "outputs": [
        {
          "output_type": "stream",
          "name": "stdout",
          "text": [
            "2 times- 3 words\n",
            "1 times- 5 words\n"
          ]
        }
      ]
    },
    {
      "cell_type": "markdown",
      "id": "d2d560a0",
      "metadata": {
        "deletable": false,
        "editable": false,
        "nbgrader": {
          "cell_type": "markdown",
          "checksum": "0db0765b80bb7a9b0792a4472f3ed69d",
          "grade": false,
          "grade_id": "cell-cd52e5600e50df5e",
          "locked": true,
          "schema_version": 3,
          "solution": false,
          "task": false
        },
        "id": "d2d560a0"
      },
      "source": [
        "## Exercise 2. Provide a histogram of the length of the words. \n",
        "\n",
        "\n",
        "You are asked to design the map and reduce functions to provide a histogram of the length of the words in one or multiple text documents. Word repetition is not a problem, so if you have the word 'bye' twice in your document, you would add 2 to the number of words of length 3.\n",
        "\n",
        "**Input**: Same as the previous exercise. So the input may look like this:\n",
        "\n",
        "    (1, Welcome to the World)\n",
        "    (2, of Big Big Data)\n",
        "    (3, Welcome World Bye)\n",
        "    \n",
        "**Output**: Your output should say how many words have a given length, where the length is given as output key, and the total number of words with such length is provided as the value (i.e. `(length, number of words)`). Thus, for the above input, the output should be as follows:\n",
        "\n",
        "    (2,2)\n",
        "    (3,4)\n",
        "    (4,1)\n",
        "    (5,2)\n",
        "    (7,2)\n",
        "\n",
        "**Additional Challenge**: How would you avoid word repetition? **[not assessed]**\n",
        "\n",
        "                                                                                                       [25 marks]"
      ]
    },
    {
      "cell_type": "markdown",
      "id": "ebe9a5bd",
      "metadata": {
        "deletable": false,
        "editable": false,
        "nbgrader": {
          "cell_type": "markdown",
          "checksum": "1297cd1a7b43747f4353321b46687aaf",
          "grade": false,
          "grade_id": "cell-68c66a96ca52d2b1",
          "locked": true,
          "schema_version": 3,
          "solution": false,
          "task": false
        },
        "id": "ebe9a5bd"
      },
      "source": [
        "![](img/ex02.jpg \"\")"
      ]
    },
    {
      "cell_type": "markdown",
      "id": "a39f7122",
      "metadata": {
        "deletable": false,
        "nbgrader": {
          "cell_type": "markdown",
          "checksum": "f9d462e1aeea2529c0e2d6792b0d6263",
          "grade": true,
          "grade_id": "cell-2cd22aa37ae7a897",
          "locked": false,
          "points": 0,
          "schema_version": 3,
          "solution": true,
          "task": false
        },
        "id": "a39f7122"
      },
      "source": [
        "ANSWER:\n"
      ]
    },
    {
      "cell_type": "code",
      "source": [
        "text2=[(1, \"Welcome to the World\"),(2, \"of Big Big Data\"),(3, \"Welcome World Bye\")]"
      ],
      "metadata": {
        "id": "T3FXaawnQEfl"
      },
      "id": "T3FXaawnQEfl",
      "execution_count": 6,
      "outputs": []
    },
    {
      "cell_type": "code",
      "source": [
        "def word_len_count(text):\n",
        "  dic={}\n",
        "  for s in text:\n",
        "    for word in s[1].split(\" \"):\n",
        "      if len(word) not in dic.keys():\n",
        "        dic[len(word)]=1\n",
        "      else:\n",
        "        dic[len(word)]+=1\n",
        "  return list(dic.items())"
      ],
      "metadata": {
        "id": "KZ1E3JNPQdpl"
      },
      "id": "KZ1E3JNPQdpl",
      "execution_count": 7,
      "outputs": []
    },
    {
      "cell_type": "code",
      "source": [
        "word_len_count(text2)"
      ],
      "metadata": {
        "colab": {
          "base_uri": "https://localhost:8080/"
        },
        "id": "ozmE6JlMQ7oz",
        "outputId": "022ae7ae-72ac-4c27-8e8e-2cdb0a87788d"
      },
      "id": "ozmE6JlMQ7oz",
      "execution_count": 8,
      "outputs": [
        {
          "output_type": "execute_result",
          "data": {
            "text/plain": [
              "[(7, 2), (2, 2), (3, 4), (5, 2), (4, 1)]"
            ]
          },
          "metadata": {},
          "execution_count": 8
        }
      ]
    },
    {
      "cell_type": "markdown",
      "id": "86511692",
      "metadata": {
        "deletable": false,
        "editable": false,
        "nbgrader": {
          "cell_type": "markdown",
          "checksum": "e707b3c1eb87af32342543762376440d",
          "grade": false,
          "grade_id": "cell-dce4d9141bf99691",
          "locked": true,
          "schema_version": 3,
          "solution": false,
          "task": false
        },
        "id": "86511692"
      },
      "source": [
        "## Exercise 3. Average length of the words in a document. \n",
        "\n",
        "You are asked to design the map and reduce functions to provide the average length of the words in one or multiple text documents. \n",
        "\n",
        "**Input**: Same as the previous exercise. So the input may look like this:\n",
        "\n",
        "    (1, Welcome to the World)\n",
        "    (2, of Big Big Data)\n",
        "    (3, Welcome World Bye)\n",
        "\n",
        "**Output**: Your output should provide the average length of the words in the input. We need to provide a single output, but as we are working on a conceptual level, it is okay to provide an output which would allow you to compute the average easily, e.g. something like `(<total word length>, <total number of words>)` would allow to compute the average easily.\n",
        "\n",
        "**Hints**: We want a single result! that should tell you something about how to do the map function. Also, the values emitted by a Map function are not limited to Integers/float, etc, they could be other data structures.\n",
        "\n",
        "**Note**: Remember the reduce function must be commutative and associative!\n",
        "\n",
        "We would like you to try two different alternatives:\n",
        "\n",
        "- **Option 1**: Use directly the text document(s).\n",
        "\n",
        "                                                                                                       [15 marks]\n",
        "                                                                                        \n",
        "- **Option 2**: Use the output of the previous exercise as input.\n",
        "\n",
        "                                                                                                       [10 marks]                                                                                                    "
      ]
    },
    {
      "cell_type": "markdown",
      "id": "b5697afe",
      "metadata": {
        "deletable": false,
        "editable": false,
        "nbgrader": {
          "cell_type": "markdown",
          "checksum": "137c06d032ede84f6f7c7671cf8434c5",
          "grade": false,
          "grade_id": "cell-504a8100e24e1de1",
          "locked": true,
          "schema_version": 3,
          "solution": false,
          "task": false
        },
        "id": "b5697afe"
      },
      "source": [
        "\n",
        "![](img/ex03.jpg \"\")"
      ]
    },
    {
      "cell_type": "markdown",
      "id": "debf3ab5",
      "metadata": {
        "deletable": false,
        "editable": false,
        "nbgrader": {
          "cell_type": "markdown",
          "checksum": "b5f524c80cf9db5ad58bec73d0353ed2",
          "grade": false,
          "grade_id": "cell-adeb984d38be96a6",
          "locked": true,
          "schema_version": 3,
          "solution": false,
          "task": false
        },
        "id": "debf3ab5"
      },
      "source": [
        "### Option 1:"
      ]
    },
    {
      "cell_type": "markdown",
      "id": "b234f47e",
      "metadata": {
        "deletable": false,
        "nbgrader": {
          "cell_type": "markdown",
          "checksum": "449ea77438854b9bdc5d3efbd1c631fc",
          "grade": true,
          "grade_id": "cell-0f745229ee9683c4",
          "locked": false,
          "points": 0,
          "schema_version": 3,
          "solution": true,
          "task": false
        },
        "id": "b234f47e"
      },
      "source": [
        "ANSWER:"
      ]
    },
    {
      "cell_type": "code",
      "source": [
        "text3=[(1, \"Welcome to the World\"),(2, \"of Big Big Data\"),(3, \"Welcome World Bye\")]"
      ],
      "metadata": {
        "id": "Oj0gCO2ZX7UL"
      },
      "id": "Oj0gCO2ZX7UL",
      "execution_count": 9,
      "outputs": []
    },
    {
      "cell_type": "code",
      "source": [
        "def total_word_len_count1(text):\n",
        "  total_word_len=0\n",
        "  total_num_word=0\n",
        "  for s in text:\n",
        "    for word in s[1].split(\" \"):\n",
        "      total_word_len+=len(word)\n",
        "      total_num_word+=1\n",
        "  return (total_word_len,total_num_word)"
      ],
      "metadata": {
        "id": "eUJw4liqWyF9"
      },
      "id": "eUJw4liqWyF9",
      "execution_count": 10,
      "outputs": []
    },
    {
      "cell_type": "code",
      "source": [
        "total_word_len_count1(text3)"
      ],
      "metadata": {
        "colab": {
          "base_uri": "https://localhost:8080/"
        },
        "id": "BzINILCzX4S2",
        "outputId": "3d1d69b0-d4df-4e68-95d1-20b4a9086d6d"
      },
      "id": "BzINILCzX4S2",
      "execution_count": 11,
      "outputs": [
        {
          "output_type": "execute_result",
          "data": {
            "text/plain": [
              "(44, 11)"
            ]
          },
          "metadata": {},
          "execution_count": 11
        }
      ]
    },
    {
      "cell_type": "markdown",
      "id": "d27c4190",
      "metadata": {
        "deletable": false,
        "editable": false,
        "nbgrader": {
          "cell_type": "markdown",
          "checksum": "9aa1dcaaaf5454c51524a85a2d9363db",
          "grade": false,
          "grade_id": "cell-70475874fe5f10a4",
          "locked": true,
          "schema_version": 3,
          "solution": false,
          "task": false
        },
        "id": "d27c4190"
      },
      "source": [
        "### Option 2:"
      ]
    },
    {
      "cell_type": "markdown",
      "id": "cf1b844c",
      "metadata": {
        "deletable": false,
        "nbgrader": {
          "cell_type": "markdown",
          "checksum": "fc478dc936053ff1468a573b409c9b4d",
          "grade": true,
          "grade_id": "cell-f565f0c3f1a13e38",
          "locked": false,
          "points": 0,
          "schema_version": 3,
          "solution": true,
          "task": false
        },
        "id": "cf1b844c"
      },
      "source": [
        "ANSWER:"
      ]
    },
    {
      "cell_type": "code",
      "source": [
        "word_length_lst=word_len_count(text3)"
      ],
      "metadata": {
        "id": "0pmId1xpYiPI"
      },
      "id": "0pmId1xpYiPI",
      "execution_count": 12,
      "outputs": []
    },
    {
      "cell_type": "code",
      "source": [
        "\n",
        "#tot_word_len = [(x + y) / 2.0 for (x, y) in zip(word_length_lst[:-1], word_length_lst[1:])]\n",
        "from functools import reduce\n",
        "\n",
        "#[sum(row[i] for row in word_length_lst) for i in range(len(word_length_lst[0])) ]\n",
        "def total_word_len_count2(lst):\n",
        "  total_word_len=sum([reduce(lambda x,y: x*y, lst[i]) for i in range(len(lst))])\n",
        "  total_num_word=sum(row[1] for row in lst)\n",
        "  return (total_word_len,total_num_word)\n",
        "\n"
      ],
      "metadata": {
        "id": "BCPycOh9Yw3M"
      },
      "id": "BCPycOh9Yw3M",
      "execution_count": 13,
      "outputs": []
    },
    {
      "cell_type": "code",
      "source": [
        "total_word_len_count2(word_length_lst)"
      ],
      "metadata": {
        "colab": {
          "base_uri": "https://localhost:8080/"
        },
        "id": "oQo5ahbYid1N",
        "outputId": "ccb7e662-d0e4-4241-e6e6-2dff032f8176"
      },
      "id": "oQo5ahbYid1N",
      "execution_count": 14,
      "outputs": [
        {
          "output_type": "execute_result",
          "data": {
            "text/plain": [
              "(44, 11)"
            ]
          },
          "metadata": {},
          "execution_count": 14
        }
      ]
    },
    {
      "cell_type": "markdown",
      "id": "c58ee439",
      "metadata": {
        "deletable": false,
        "editable": false,
        "nbgrader": {
          "cell_type": "markdown",
          "checksum": "779403dffb6a88c9011e432f588b06a1",
          "grade": false,
          "grade_id": "cell-f027b43676df82fd",
          "locked": true,
          "schema_version": 3,
          "solution": false,
          "task": false
        },
        "id": "c58ee439"
      },
      "source": [
        "## Exercise 4. Find a list of common friends *between pairs of friends*.\n",
        "\n",
        "Obtain a list of common friends for each pair of friends. That is, for each two people that are friends (assuming friendship is bi-directional), you need to find the friends in common.\n",
        "\n",
        "You are asked to design the map and reduce functions that read a file that contains a list of friends for each person. Using map and reduce functions you should find for each pair of friends, the list of common friends.\n",
        "\n",
        "**Input**: A file with the following format: Person -> List of friends. \n",
        "\n",
        "```\n",
        "Isaac -> Mikel John Lucy\n",
        "Mikel -> Isaac John Lucy Claudia\n",
        "John -> Isaac Mikel Lucy Claudia\n",
        "Lucy -> Isaac Mikel John Claudia\n",
        "Claudia -> Mikel John Lucy\n",
        "```\n",
        "\n",
        "**Output**: (pair of friends, list of common friends)\n",
        "```\n",
        "(Isaac, Mikel)    -> [John, Lucy]\n",
        "(Claudia, Mikel)  -> [John, Lucy]\n",
        "(John, Lucy)      -> [Claudia, Isaac, Mikel]\n",
        "(Isaac, John)     -> [Lucy, Mikel]\n",
        "(Isaac, Lucy)     -> [John, Mikel]\n",
        "(John, Mikel)     -> [Claudia, Isaac, Lucy]\n",
        "(Lucy, Mikel)     -> [Claudia, Isaac, John]\n",
        "(Claudia, John)   -> [Lucy, Mikel]\n",
        "(Claudia, Lucy)   -> [John, Mikel]\n",
        "\n",
        "```"
      ]
    },
    {
      "cell_type": "markdown",
      "id": "8399c96b",
      "metadata": {
        "deletable": false,
        "editable": false,
        "nbgrader": {
          "cell_type": "markdown",
          "checksum": "cba3bebea426ef03acf2032cc8aacec3",
          "grade": false,
          "grade_id": "cell-b8edc970baec64f2",
          "locked": true,
          "schema_version": 3,
          "solution": false,
          "task": false
        },
        "id": "8399c96b"
      },
      "source": [
        "![](img/ex04.jpg \"\")"
      ]
    },
    {
      "cell_type": "markdown",
      "id": "57997e23",
      "metadata": {
        "deletable": false,
        "nbgrader": {
          "cell_type": "markdown",
          "checksum": "15b234f89fe1e79a5c29388b34573eff",
          "grade": true,
          "grade_id": "cell-341c70774a495753",
          "locked": false,
          "points": 0,
          "schema_version": 3,
          "solution": true,
          "task": false
        },
        "id": "57997e23"
      },
      "source": [
        "YOUR ANSWER HERE"
      ]
    }
  ],
  "metadata": {
    "kernelspec": {
      "display_name": "Python 3 (ipykernel)",
      "language": "python",
      "name": "python3"
    },
    "language_info": {
      "codemirror_mode": {
        "name": "ipython",
        "version": 3
      },
      "file_extension": ".py",
      "mimetype": "text/x-python",
      "name": "python",
      "nbconvert_exporter": "python",
      "pygments_lexer": "ipython3",
      "version": "3.8.5"
    },
    "colab": {
      "name": "MapReduce Lab 1.ipynb",
      "provenance": [],
      "include_colab_link": true
    }
  },
  "nbformat": 4,
  "nbformat_minor": 5
}